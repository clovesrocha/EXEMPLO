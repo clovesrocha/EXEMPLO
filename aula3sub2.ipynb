{
  "nbformat": 4,
  "nbformat_minor": 0,
  "metadata": {
    "colab": {
      "name": "aula3sub2.ipynb",
      "provenance": [],
      "authorship_tag": "ABX9TyNjBt6dH4zVqBlzDPEjne6n",
      "include_colab_link": true
    },
    "kernelspec": {
      "name": "python3",
      "display_name": "Python 3"
    },
    "language_info": {
      "name": "python"
    }
  },
  "cells": [
    {
      "cell_type": "markdown",
      "metadata": {
        "id": "view-in-github",
        "colab_type": "text"
      },
      "source": [
        "<a href=\"https://colab.research.google.com/github/clovesrocha/EXEMPLO/blob/main/aula3sub2.ipynb\" target=\"_parent\"><img src=\"https://colab.research.google.com/assets/colab-badge.svg\" alt=\"Open In Colab\"/></a>"
      ]
    },
    {
      "cell_type": "code",
      "execution_count": 1,
      "metadata": {
        "colab": {
          "base_uri": "https://localhost:8080/"
        },
        "id": "XzNqMB7HBJb4",
        "outputId": "6f4a2a3e-d5f1-4bf4-9372-c5d54c548bda"
      },
      "outputs": [
        {
          "output_type": "stream",
          "name": "stdout",
          "text": [
            "Olá, ETE PORTO DIGITAL!\n"
          ]
        }
      ],
      "source": [
        "# ETE PORTO DIGITAL \n",
        "# DISCIPLINA: LPC1\n",
        "# PROFESSOR: CLOVES\n",
        "# ESTUDANTE: ?\n",
        "\n",
        "print ('Olá, ETE PORTO DIGITAL! EXEMPLO 2')"
      ]
    }
  ]
}